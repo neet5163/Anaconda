{
 "cells": [
  {
   "cell_type": "code",
   "execution_count": 1,
   "metadata": {},
   "outputs": [
    {
     "data": {
      "text/html": [
       "<div><pre style=\"&#102;&#111;&#110;&#116;&#45;&#102;&#97;&#109;&#105;&#108;&#121;&#58;&#32;&#34;&#67;&#111;&#117;&#114;&#105;&#101;&#114;&#32;&#78;&#101;&#119;&#34;&#44;&#67;&#111;&#117;&#114;&#105;&#101;&#114;&#44;&#109;&#111;&#110;&#111;&#115;&#112;&#97;&#99;&#101;&#59;\">&#123;&#49;&#44;&#32;&#50;&#44;&#32;&#51;&#44;&#32;&#52;&#44;&#32;&#53;&#44;&#32;&#54;&#44;&#32;&#55;&#44;&#32;&#56;&#44;&#32;&#57;&#44;&#32;&#49;&#48;&#44;&#32;&#49;&#49;&#44;&#32;&#49;&#50;&#44;&#32;&#49;&#51;&#44;&#32;&#49;&#52;&#44;&#32;&#49;&#53;&#44;&#32;&#49;&#54;&#44;&#32;&#49;&#55;&#44;&#32;&#49;&#56;&#44;&#32;&#49;&#57;&#44;&#32;&#50;&#48;&#44;&#32;&#50;&#49;&#44;&#32;&#50;&#50;&#44;&#32;&#50;&#51;&#44;&#32;&#50;&#52;&#44;&#32;&#50;&#53;&#44;&#32;&#50;&#54;&#44;&#32;&#50;&#55;&#44;&#32;&#50;&#56;&#44;&#32;&#50;&#57;&#44;&#32;&#51;&#48;&#44;&#32;&#51;&#49;&#44;&#32;&#51;&#50;&#44;&#32;&#51;&#51;&#44;&#32;&#51;&#52;&#44;&#32;&#51;&#53;&#44;&#32;&#51;&#54;&#44;&#32;&#51;&#55;&#44;&#32;&#51;&#56;&#44;&#32;&#51;&#57;&#44;&#32;&#52;&#48;&#44;&#32;&#52;&#49;&#44;&#32;&#52;&#50;&#44;&#32;&#52;&#51;&#44;&#32;&#52;&#52;&#44;&#32;&#52;&#53;&#44;&#32;&#52;&#54;&#44;&#32;&#52;&#55;&#44;&#32;&#52;&#56;&#44;&#32;&#52;&#57;&#44;&#32;&#53;&#48;&#44;&#32;&#53;&#49;&#44;&#32;&#53;&#50;&#44;&#32;&#53;&#51;&#44;&#32;&#53;&#52;&#44;&#32;&#53;&#53;&#44;&#32;&#53;&#54;&#44;&#32;&#53;&#55;&#44;&#32;&#53;&#56;&#44;&#32;&#53;&#57;&#44;&#32;&#54;&#48;&#44;&#32;&#54;&#49;&#44;&#32;&#54;&#50;&#44;&#32;&#54;&#51;&#44;&#32;&#54;&#52;&#44;&#32;&#54;&#53;&#44;&#32;&#54;&#54;&#44;&#32;&#54;&#55;&#44;&#32;&#54;&#56;&#44;&#32;&#54;&#57;&#44;&#32;&#55;&#48;&#44;&#32;&#55;&#49;&#44;&#32;&#55;&#50;&#44;&#32;&#55;&#51;&#44;&#32;&#55;&#52;&#44;&#32;&#55;&#53;&#44;&#32;&#55;&#54;&#44;&#32;&#55;&#55;&#44;&#32;&#55;&#56;&#44;&#32;&#55;&#57;&#44;&#32;&#56;&#48;&#44;&#32;&#56;&#49;&#44;&#32;&#56;&#50;&#44;&#32;&#56;&#51;&#44;&#32;&#56;&#52;&#44;&#32;&#56;&#53;&#44;&#32;&#56;&#54;&#44;&#32;&#56;&#55;&#44;&#32;&#56;&#56;&#44;&#32;&#56;&#57;&#44;&#32;&#57;&#48;&#44;&#32;&#57;&#49;&#44;&#32;&#57;&#50;&#44;&#32;&#57;&#51;&#44;&#32;&#57;&#52;&#44;&#32;&#57;&#53;&#44;&#32;&#57;&#54;&#44;&#32;&#57;&#55;&#44;&#32;&#57;&#56;&#44;&#32;&#57;&#57;&#44;&#32;&#49;&#48;&#48;&#125;</pre></div>"
      ],
      "text/plain": [
       "{1, 2, 3, 4, 5, 6, 7, 8, 9, 10, 11, 12, 13, 14, 15, 16, 17, 18, 19, 20, 21, 22, 23, 24, 25, 26, 27, 28, 29, 30, 31, 32, 33, 34, 35, 36, 37, 38, 39, 40, 41, 42, 43, 44, 45, 46, 47, 48, 49, 50, 51, 52, 53, 54, 55, 56, 57, 58, 59, 60, 61, 62, 63, 64, 65, 66, 67, 68, 69, 70, 71, 72, 73, 74, 75, 76, 77, 78, 79, 80, 81, 82, 83, 84, 85, 86, 87, 88, 89, 90, 91, 92, 93, 94, 95, 96, 97, 98, 99, 100}"
      ]
     },
     "execution_count": 1,
     "metadata": {
      "text/html": [],
      "text/plain": []
     },
     "output_type": "execute_result"
    }
   ],
   "source": [
    "Range[100]"
   ]
  },
  {
   "cell_type": "code",
   "execution_count": 2,
   "metadata": {},
   "outputs": [
    {
     "data": {
      "text/html": [
       "<div><img alt=\"Output\" src=\"data:image/png;base64,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\"></div>"
      ],
      "text/plain": [
       "-Graphics-"
      ]
     },
     "execution_count": 2,
     "metadata": {
      "text/html": [],
      "text/plain": []
     },
     "output_type": "execute_result"
    }
   ],
   "source": [
    "ListPlot[%]"
   ]
  },
  {
   "cell_type": "code",
   "execution_count": null,
   "metadata": {},
   "outputs": [],
   "source": []
  }
 ],
 "metadata": {
  "kernelspec": {
   "display_name": "Wolfram Language 12",
   "language": "Wolfram Language",
   "name": "wolframlanguage12"
  },
  "language_info": {
   "codemirror_mode": "mathematica",
   "file_extension": ".m",
   "mimetype": "application/vnd.wolfram.m",
   "name": "Wolfram Language",
   "pygments_lexer": "mathematica",
   "version": "12.0"
  }
 },
 "nbformat": 4,
 "nbformat_minor": 4
}
